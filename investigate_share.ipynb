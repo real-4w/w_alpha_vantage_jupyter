{
 "metadata": {
  "language_info": {
   "codemirror_mode": {
    "name": "ipython",
    "version": 3
   },
   "file_extension": ".py",
   "mimetype": "text/x-python",
   "name": "python",
   "nbconvert_exporter": "python",
   "pygments_lexer": "ipython3",
   "version": "3.8.1-final"
  },
  "orig_nbformat": 2,
  "kernelspec": {
   "name": "python38132bit657d7e79ce2e4e3ab0b9c1e4091c7127",
   "display_name": "Python 3.8.1 32-bit"
  }
 },
 "nbformat": 4,
 "nbformat_minor": 2,
 "cells": [
  {
   "cell_type": "markdown",
   "metadata": {},
   "source": [
    "Just setting the environment up, assuming all module have been installed prior."
   ]
  },
  {
   "cell_type": "code",
   "execution_count": 16,
   "metadata": {},
   "outputs": [],
   "source": [
    "import requests, json, time, pathlib, yaml\n",
    "import pandas as pd\n",
    "import matplotlib.pyplot as plt \n",
    "from cli_badges import badge"
   ]
  },
  {
   "cell_type": "code",
   "execution_count": 17,
   "metadata": {},
   "outputs": [],
   "source": [
    "def RealTimeSharePrice (stock_symbol, api_key) :\n",
    "    '''This function loads the current shareprice from alphavantage'''\n",
    "    base_url = \"https://www.alphavantage.co/query?function=GLOBAL_QUOTE\"\n",
    "    main_url = base_url + \"&symbol=\" + stock_symbol + \"&apikey=\" + api_key\n",
    "    req_ob = requests.get(main_url)                     #get method of requests module & return response object\n",
    "    result = req_ob.json()                              #json method return json format data into python dictionary data typ & result contains list of nested dictionaries\n",
    "    if debug == True : \n",
    "        print(\"Result before parsing the json data :\\n\", result)\n",
    "        print(\"Parsed as :\\n\", result[\"Global Quote\"])\n",
    "        print(\"Lenght \", len(result[\"Global Quote\"]))\n",
    "    if len(result[\"Global Quote\"]) > 0: \n",
    "        share_price = float(result[\"Global Quote\"]['05. price'])\n",
    "        share_change = float(result[\"Global Quote\"][\"09. change\"])\n",
    "        if share_change >= 0 :\n",
    "            messagebg = 'green'\n",
    "        else :\n",
    "            messagebg = 'red'\n",
    "        label = result[\"Global Quote\"][\"01. symbol\"]\n",
    "        price = result[\"Global Quote\"][\"05. price\"]\n",
    "        change = result[\"Global Quote\"][\"09. change\"]\n",
    "        PriceBadge = badge(label, price, messagebg='blue',messagecolor='black')\n",
    "        ChangeBadge = badge(label, change, messagebg=messagebg, messagecolor='black')\n",
    "        print(PriceBadge, ChangeBadge, \"\\n\")\n",
    "        if debug == True : \n",
    "            print(\"Realtime share price for\", result[\"Global Quote\"][\"01. symbol\"], \"price\", result[\"Global Quote\"][\"05. price\"], \"change\", result[\"Global Quote\"][\"09. change\"])\n",
    "    else:\n",
    "        share_price = float(0)\n",
    "    return(share_price)"
   ]
  },
  {
   "cell_type": "code",
   "execution_count": 7,
   "metadata": {},
   "outputs": [],
   "source": [
    "def AskInputShareCode (): \n",
    "    stock_symbol =input(\"Please enter stock symbol to test on AlphaVantage :\")\n",
    "    return (stock_symbol)"
   ]
  },
  {
   "cell_type": "code",
   "execution_count": 8,
   "metadata": {},
   "outputs": [],
   "source": [
    "def ProcessYAML (yaml_file) :\n",
    "    '''This function opens the yaml file and returns the data object'''\n",
    "    with open(yaml_file) as f:\n",
    "        y_data = yaml.load(f, Loader=yaml.FullLoader)\n",
    "        debug = y_data['debug']\n",
    "        if debug == True : print(\"YAML file:\\n\", y_data)\n",
    "    return (y_data)    "
   ]
  },
  {
   "cell_type": "code",
   "execution_count": 14,
   "metadata": {
    "tags": []
   },
   "outputs": [],
   "source": [
    "yaml_data = ProcessYAML('alpha.yaml')                                     #yaml settings are global variables\n",
    "debug = yaml_data['debug']                                                #debug mode?\n",
    "plot = yaml_data['plot']                                                  #plot mode?  \n",
    "copy_to_file = yaml_data['copy_to_file']                                  #file output\n",
    "api_key = yaml_data['api_key_dev']"
   ]
  },
  {
   "cell_type": "code",
   "execution_count": 18,
   "metadata": {
    "tags": []
   },
   "outputs": [
    {
     "output_type": "stream",
     "name": "stdout",
     "text": "\u001b[48;5;8m\u001b[38;5;15m T \u001b[0m\u001b[0m\u001b[48;5;4m\u001b[38;5;0m 30.0400 \u001b[0m\u001b[0m \u001b[48;5;8m\u001b[38;5;15m T \u001b[0m\u001b[0m\u001b[48;5;2m\u001b[38;5;0m 0.1400 \u001b[0m\u001b[0m \n\n===========\n"
    }
   ],
   "source": [
    "stock_symbol = AskInputShareCode() \n",
    "if debug == True : print (api_key)\n",
    "share_price = RealTimeSharePrice(stock_symbol, api_key)\n",
    "#intra_day_price_df = IntraDayPrice( stock_symbol, api_key)\n",
    "#hist_share_price_df = HistoricSharePrice (stock_symbol, api_key)\n",
    "#if plot == True : \n",
    "    #PlotIntraDayPrice(stock_symbol, intra_day_price_df)\n",
    "    #PlotHistoricSharePrice(stock_symbol, hist_share_price_df)\n",
    "    #plt.show()\n",
    "print(\"===========\")"
   ]
  },
  {
   "cell_type": "code",
   "execution_count": null,
   "metadata": {},
   "outputs": [],
   "source": []
  }
 ]
}